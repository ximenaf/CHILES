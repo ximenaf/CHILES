{
 "cells": [
  {
   "cell_type": "markdown",
   "metadata": {},
   "source": [
    "This selects the galaxies in the Kartatelpe+10 sample within 20 arcmin from the CHILES poining center "
   ]
  },
  {
   "cell_type": "code",
   "execution_count": 1,
   "metadata": {
    "collapsed": false
   },
   "outputs": [
    {
     "name": "stdout",
     "output_type": "stream",
     "text": [
      "Populating the interactive namespace from numpy and matplotlib\n"
     ]
    }
   ],
   "source": [
    "import numpy as np\n",
    "import matplotlib.pyplot as plt\n",
    "import astropy.io.fits as pyfits\n",
    "import pylab as p\n",
    "from astropy import units as u\n",
    "from astropy.coordinates import SkyCoord\n",
    "import astropy.io.ascii as easy\n",
    "import astropy as astro\n",
    "\n",
    "#import dist as DL\n",
    "%pylab inline\n",
    "%matplotlib inline"
   ]
  },
  {
   "cell_type": "markdown",
   "metadata": {},
   "source": [
    "This will open the file and read in the important info"
   ]
  },
  {
   "cell_type": "code",
   "execution_count": 13,
   "metadata": {
    "collapsed": false
   },
   "outputs": [],
   "source": [
    "ff = open('Karta.txt', 'r')\n",
    "LIR=[]\n",
    "RADEC=[]\n",
    "z=[]\n",
    "for line in ff:\n",
    "    line = line.strip()\n",
    "    columns = line.split()\n",
    "    LIR.append(float(columns[3]))\n",
    "    RADEC.append(columns[2])\n",
    "    z.append(float(columns[5]))\n",
    "\n"
   ]
  },
  {
   "cell_type": "code",
   "execution_count": 8,
   "metadata": {
    "collapsed": false
   },
   "outputs": [],
   "source": [
    "RAd=[]\n",
    "DECd=[]\n",
    "for item in RADEC:\n",
    "    RAd.append(item[1:3]+'h'+item[3:5]+'m'+item[5:11]+'s')\n",
    "    DECd.append(item[11:14]+'d'+item[14:16]+'m'+item[16:21]+'s')\n"
   ]
  },
  {
   "cell_type": "code",
   "execution_count": 14,
   "metadata": {
    "collapsed": false
   },
   "outputs": [],
   "source": [
    "coords=SkyCoord(ra=RAd,dec=DECd)"
   ]
  },
  {
   "cell_type": "markdown",
   "metadata": {},
   "source": [
    "Define pointing center of CHILES:"
   ]
  },
  {
   "cell_type": "code",
   "execution_count": 16,
   "metadata": {
    "collapsed": false
   },
   "outputs": [
    {
     "name": "stdout",
     "output_type": "stream",
     "text": [
      "<SkyCoord (ICRS): (ra, dec) in deg\n",
      "    (150.35, 2.35)>\n"
     ]
    }
   ],
   "source": [
    "raCHI='10h01m24s'\n",
    "decCHI='02d21m00s'\n",
    "pcCHI=SkyCoord(ra=raCHI,dec=decCHI)\n",
    "print pcCHI"
   ]
  },
  {
   "cell_type": "markdown",
   "metadata": {
    "collapsed": false
   },
   "source": [
    "Calculate distance between coordinates and center:"
   ]
  },
  {
   "cell_type": "code",
   "execution_count": 24,
   "metadata": {
    "collapsed": false
   },
   "outputs": [
    {
     "name": "stdout",
     "output_type": "stream",
     "text": [
      "[ 47.29423122  46.95730421  45.26743687 ...,  35.95636327  35.05779301\n",
      "  32.41329715]\n"
     ]
    }
   ],
   "source": [
    "dist=pcCHI.separation(coords)\n"
   ]
  },
  {
   "cell_type": "markdown",
   "metadata": {},
   "source": [
    "Select galaxies within 20 arcmin:"
   ]
  },
  {
   "cell_type": "code",
   "execution_count": 49,
   "metadata": {
    "collapsed": false
   },
   "outputs": [],
   "source": [
    "ind=[]\n",
    "for i in range(len(dist)):\n",
    "    if dist.deg[i]*60.0<30.0:\n",
    "        ind.append(i)\n",
    "        \n"
   ]
  },
  {
   "cell_type": "code",
   "execution_count": 40,
   "metadata": {
    "collapsed": false
   },
   "outputs": [
    {
     "data": {
      "text/plain": [
       "<SkyCoord (ICRS): (ra, dec) in deg\n",
       "    (150.33115, 2.04724444)>"
      ]
     },
     "execution_count": 40,
     "metadata": {},
     "output_type": "execute_result"
    }
   ],
   "source": [
    "coords[489]"
   ]
  },
  {
   "cell_type": "code",
   "execution_count": 50,
   "metadata": {
    "collapsed": false
   },
   "outputs": [
    {
     "name": "stdout",
     "output_type": "stream",
     "text": [
      "0.501 11.43 150.45715 1.87382777778\n",
      "0.22 11.14 150.1379 1.90395277778\n",
      "0.45 11.19 150.535658333 1.91319722222\n",
      "0.5 11.46 150.233329167 1.92220277778\n",
      "0.323 11.43 150.151429167 1.93598611111\n",
      "0.361 11.51 150.375408333 1.93931944444\n",
      "0.36 11.7 150.233970833 1.94515\n",
      "0.41 11.07 150.196158333 1.94820833333\n",
      "0.323 11.38 150.110008333 1.95348333333\n",
      "0.44 11.51 150.625229167 1.952575\n",
      "0.361 11.22 150.146879167 1.95721666667\n",
      "0.356 11.19 150.051758333 1.96124166667\n",
      "0.389 11.15 150.301020833 1.97845833333\n",
      "0.38 11.34 150.521541667 1.98557777778\n",
      "0.5 11.26 150.393091667 2.00045277778\n",
      "0.5 11.76 150.399641667 2.01425277778\n",
      "0.22 11.02 150.470429167 2.02045555556\n",
      "0.45 11.5 150.706741667 2.031175\n",
      "0.31 11.19 150.024908333 2.03940833333\n",
      "0.214 11.21 150.68025 2.08939722222\n",
      "0.425 11.56 150.418308333 2.08515555556\n",
      "0.3 11.3 149.96755 2.09832222222\n",
      "0.36 11.61 150.179791667 2.11037777778\n",
      "0.32 11.26 150.463358333 2.12085277778\n",
      "0.339 11.64 150.045641667 2.12357777778\n",
      "0.338 11.1 150.51615 2.12327777778\n",
      "0.4 11.18 150.691329167 2.14428055556\n",
      "0.36 11.21 150.531829167 2.14780277778\n",
      "0.309 11.2 149.935291667 2.14962222222\n",
      "0.479 11.82 150.011291667 2.15669166667\n",
      "0.359 11.39 149.962179167 2.15961388889\n",
      "0.43 11.17 150.45945 2.16033333333\n",
      "0.479 11.47 150.338220833 2.16227777778\n",
      "0.186 11.03 149.886529167 2.17751944444\n",
      "0.182 11.44 150.056541667 2.20854722222\n",
      "0.187 11.18 150.066929167 2.21040277778\n",
      "0.345 11.94 149.894558333 2.20803333333\n",
      "0.37 11.32 150.713241667 2.20943055556\n",
      "0.496 11.62 150.250208333 2.21458888889\n",
      "0.5 11.57 150.722408333 2.21339722222\n",
      "0.186 11.27 150.095629167 2.22016944444\n",
      "0.23 11.01 150.673658333 2.22633333333\n",
      "0.358 12.07 150.667641667 2.24735277778\n",
      "0.45 11.42 150.332470833 2.24229166667\n",
      "0.251 11.21 150.03525 2.25605277778\n",
      "0.37 11.31 150.702229167 2.26579166667\n",
      "0.358 11.08 149.876441667 2.26910833333\n",
      "0.166 11.09 150.252779167 2.27813888889\n",
      "0.472 11.62 150.007479167 2.27427777778\n",
      "0.427 11.44 150.161091667 2.27870833333\n",
      "0.362 11.21 150.2348 2.27996666667\n",
      "0.441 11.27 150.166808333 2.30120277778\n",
      "0.376 11.03 150.014879167 2.32096388889\n",
      "0.431 11.5 150.31515 2.32647777778\n",
      "0.36 11.12 150.489458333 2.32664722222\n",
      "0.378 11.36 149.965758333 2.32717222222\n",
      "0.509 11.4 150.5691 2.33303055556\n",
      "0.49 11.42 149.932370833 2.33552222222\n",
      "0.503 11.02 150.642541667 2.34432777778\n",
      "0.49 11.45 149.911320833 2.34858333333\n",
      "0.47 11.28 150.298379167 2.34660833333\n",
      "0.23 11.03 150.175679167 2.35872777778\n",
      "0.501 11.48 150.539470833 2.36421944444\n",
      "0.176 11.21 150.532620833 2.38081111111\n",
      "0.47 11.39 150.330970833 2.37536666667\n",
      "0.5 11.56 150.690070833 2.38101111111\n",
      "0.266 11.11 150.095308333 2.38475555556\n",
      "0.222 11.09 150.358008333 2.38359722222\n",
      "0.365 11.29 150.505041667 2.38975277778\n",
      "0.38 11.37 150.405079167 2.41005\n",
      "0.38 11.31 150.716491667 2.41396944444\n",
      "0.4 11.3 149.868691667 2.41879722222\n",
      "0.38 11.45 150.705520833 2.41793333333\n",
      "0.215 11.08 150.4651 2.41915\n",
      "0.478 11.76 150.383470833 2.42080833333\n",
      "0.311 11.14 150.1754 2.42618888889\n",
      "0.348 11.19 150.09495 2.42518888889\n",
      "0.48 11.63 149.975129167 2.42716111111\n",
      "0.33 11.47 150.23605 2.44321111111\n",
      "0.38 11.14 150.597320833 2.44519722222\n",
      "0.26 11.04 150.452529167 2.45038888889\n",
      "0.217 11.18 150.319120833 2.45773888889\n",
      "0.333 11.25 149.883991667 2.45838888889\n",
      "0.346 11.12 149.975658333 2.46148055556\n",
      "0.36 11.42 150.71045 2.47742222222\n",
      "0.25 11.01 150.092308333 2.48202222222\n",
      "0.37 11.6 150.228570833 2.52394722222\n",
      "0.376 11.01 150.2202 2.52455833333\n",
      "0.41 11.36 150.522508333 2.52608333333\n",
      "0.22 11.05 150.422679167 2.53255833333\n",
      "0.47 11.26 149.927991667 2.53509722222\n",
      "0.376 11.65 150.293708333 2.54063611111\n",
      "0.373 11.59 150.477041667 2.54881388889\n",
      "0.48 11.39 150.585929167 2.55113055556\n",
      "0.5 11.17 150.120079167 2.56149166667\n",
      "0.35 11.16 150.03115 2.56876111111\n",
      "0.43 11.05 150.29835 2.57037777778\n",
      "0.36 11.16 150.423329167 2.57665277778\n",
      "0.309 11.3 149.96865 2.58325\n",
      "0.49 11.18 150.080008333 2.62204166667\n",
      "0.375 11.31 150.279670833 2.63015833333\n",
      "0.517 11.1 150.099420833 2.64335833333\n",
      "0.37 11.3 150.690970833 2.64704722222\n",
      "0.269 11.01 150.227008333 2.65146666667\n",
      "0.221 11.23 150.349008333 2.659525\n",
      "0.451 11.03 150.278529167 2.65514166667\n",
      "0.44 11.34 149.9687 2.66049166667\n",
      "0.469 11.16 150.401708333 2.66628055556\n",
      "0.274 11.42 150.689329167 2.68050277778\n",
      "0.38 11.07 150.660158333 2.68563055556\n",
      "0.495 11.44 150.175729167 2.68646111111\n",
      "0.458 11.1 150.386920833 2.69110833333\n",
      "0.349 11.51 150.108008333 2.69559722222\n",
      "0.304 11.03 150.160229167 2.69933888889\n",
      "0.224 11.05 150.504258333 2.70357222222\n",
      "0.23 11.17 150.5454 2.71170833333\n",
      "0.38 11.14 150.66545 2.71866666667\n",
      "0.25 11.34 150.070229167 2.72431666667\n",
      "0.47 11.08 150.199308333 2.72196111111\n",
      "0.433 11.68 150.092841667 2.73446388889\n",
      "0.36 11.05 150.566729167 2.77425\n",
      "0.41 11.65 150.415658333 2.77694722222\n",
      "0.36 11.19 150.391670833 2.77900277778\n",
      "0.25 11.43 150.195791667 2.79436666667\n",
      "0.33 11.32 150.401041667 2.81059166667\n",
      "0.47 11.5 150.169329167 2.81555833333\n"
     ]
    },
    {
     "data": {
      "text/plain": [
       "126"
      ]
     },
     "execution_count": 50,
     "metadata": {},
     "output_type": "execute_result"
    }
   ],
   "source": [
    "LI=[]\n",
    "for i in ind:\n",
    "    if LIR[i]>11.0 and z[i]<0.55:\n",
    "        print z[i], LIR[i], coords.ra.deg[i],  coords.dec.deg[i]\n",
    "        LI.append(1)\n",
    "        \n",
    "np.size(LI)"
   ]
  },
  {
   "cell_type": "code",
   "execution_count": null,
   "metadata": {
    "collapsed": false
   },
   "outputs": [],
   "source": []
  },
  {
   "cell_type": "code",
   "execution_count": null,
   "metadata": {
    "collapsed": true
   },
   "outputs": [],
   "source": []
  },
  {
   "cell_type": "code",
   "execution_count": null,
   "metadata": {
    "collapsed": false
   },
   "outputs": [],
   "source": []
  },
  {
   "cell_type": "code",
   "execution_count": null,
   "metadata": {
    "collapsed": false
   },
   "outputs": [],
   "source": []
  },
  {
   "cell_type": "code",
   "execution_count": null,
   "metadata": {
    "collapsed": true
   },
   "outputs": [],
   "source": []
  },
  {
   "cell_type": "code",
   "execution_count": null,
   "metadata": {
    "collapsed": true
   },
   "outputs": [],
   "source": []
  }
 ],
 "metadata": {
  "kernelspec": {
   "display_name": "Python 2",
   "language": "python",
   "name": "python2"
  },
  "language_info": {
   "codemirror_mode": {
    "name": "ipython",
    "version": 2
   },
   "file_extension": ".py",
   "mimetype": "text/x-python",
   "name": "python",
   "nbconvert_exporter": "python",
   "pygments_lexer": "ipython2",
   "version": "2.7.10"
  }
 },
 "nbformat": 4,
 "nbformat_minor": 0
}
